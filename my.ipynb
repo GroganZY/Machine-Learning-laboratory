{
 "cells": [
  {
   "cell_type": "code",
   "execution_count": null,
   "metadata": {},
   "outputs": [],
   "source": [
    "import numpy as np\n",
    "def func(x):\n",
    "  return np.sin(2*np.pi*x)\n"
   ]
  }
 ],
 "metadata": {
  "kernelspec": {
   "display_name": "Python 3.8.12 ('minecraft')",
   "language": "python",
   "name": "python3"
  },
  "language_info": {
   "name": "python",
   "version": "3.8.12"
  },
  "orig_nbformat": 4,
  "vscode": {
   "interpreter": {
    "hash": "a26103c667e064e56959c936699024d32022ea8bc5f3a761de7ecb115112afa5"
   }
  }
 },
 "nbformat": 4,
 "nbformat_minor": 2
}
